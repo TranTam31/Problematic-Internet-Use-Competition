{
 "cells": [
  {
   "cell_type": "markdown",
   "id": "484dc4de",
   "metadata": {
    "papermill": {
     "duration": 0.008148,
     "end_time": "2024-12-22T02:00:42.356740",
     "exception": false,
     "start_time": "2024-12-22T02:00:42.348592",
     "status": "completed"
    },
    "tags": []
   },
   "source": [
    "# Imports"
   ]
  },
  {
   "cell_type": "code",
   "execution_count": 1,
   "id": "821ec944",
   "metadata": {
    "execution": {
     "iopub.execute_input": "2024-12-22T02:00:42.373093Z",
     "iopub.status.busy": "2024-12-22T02:00:42.372674Z",
     "iopub.status.idle": "2024-12-22T02:00:46.393256Z",
     "shell.execute_reply": "2024-12-22T02:00:46.392087Z"
    },
    "papermill": {
     "duration": 4.031594,
     "end_time": "2024-12-22T02:00:46.395824",
     "exception": false,
     "start_time": "2024-12-22T02:00:42.364230",
     "status": "completed"
    },
    "tags": []
   },
   "outputs": [],
   "source": [
    "import os\n",
    "import random\n",
    "from tqdm import tqdm\n",
    "from pathlib import Path\n",
    "from concurrent.futures import ThreadPoolExecutor\n",
    "\n",
    "import numpy as np\n",
    "import pandas as pd\n",
    "\n",
    "from sklearn.metrics import make_scorer\n",
    "from sklearn.metrics import cohen_kappa_score\n",
    "from sklearn.model_selection import StratifiedKFold\n",
    "from sklearn.model_selection import cross_val_score\n",
    "from sklearn.model_selection import cross_val_predict\n",
    "from sklearn.preprocessing import OrdinalEncoder\n",
    "from sklearn.ensemble import VotingRegressor\n",
    "from sklearn.impute import SimpleImputer\n",
    "\n",
    "from scipy.optimize import minimize\n",
    "import optuna\n",
    "\n",
    "import lightgbm as lgb\n",
    "\n",
    "import warnings\n",
    "warnings.filterwarnings('ignore')\n",
    "\n",
    "#new\n",
    "from sklearn.base import clone\n",
    "\n",
    "\n",
    "SEED = 42\n",
    "\n",
    "KAPPA_SCORER = make_scorer(\n",
    "    cohen_kappa_score, \n",
    "    greater_is_better=True, \n",
    "    weights='quadratic',\n",
    ")"
   ]
  },
  {
   "cell_type": "markdown",
   "id": "580eddc0",
   "metadata": {
    "papermill": {
     "duration": 0.007029,
     "end_time": "2024-12-22T02:00:46.410304",
     "exception": false,
     "start_time": "2024-12-22T02:00:46.403275",
     "status": "completed"
    },
    "tags": []
   },
   "source": [
    "# Load data"
   ]
  },
  {
   "cell_type": "code",
   "execution_count": 2,
   "id": "fd431f81",
   "metadata": {
    "execution": {
     "iopub.execute_input": "2024-12-22T02:00:46.426616Z",
     "iopub.status.busy": "2024-12-22T02:00:46.426061Z",
     "iopub.status.idle": "2024-12-22T02:00:46.434261Z",
     "shell.execute_reply": "2024-12-22T02:00:46.430983Z"
    },
    "papermill": {
     "duration": 0.019607,
     "end_time": "2024-12-22T02:00:46.437142",
     "exception": false,
     "start_time": "2024-12-22T02:00:46.417535",
     "status": "completed"
    },
    "tags": []
   },
   "outputs": [],
   "source": [
    "def process_file(filename, dirname):\n",
    "    df = pd.read_parquet(os.path.join(dirname, filename, 'part-0.parquet'))\n",
    "    df.drop('step', axis=1, inplace=True)\n",
    "    \n",
    "    return df.describe().values.reshape(-1), filename.split('=')[1]"
   ]
  },
  {
   "cell_type": "code",
   "execution_count": 3,
   "id": "3a770ec3",
   "metadata": {
    "execution": {
     "iopub.execute_input": "2024-12-22T02:00:46.453949Z",
     "iopub.status.busy": "2024-12-22T02:00:46.453518Z",
     "iopub.status.idle": "2024-12-22T02:00:46.459719Z",
     "shell.execute_reply": "2024-12-22T02:00:46.458715Z"
    },
    "papermill": {
     "duration": 0.016945,
     "end_time": "2024-12-22T02:00:46.461722",
     "exception": false,
     "start_time": "2024-12-22T02:00:46.444777",
     "status": "completed"
    },
    "tags": []
   },
   "outputs": [],
   "source": [
    "def load_time_series(dirname):\n",
    "    ids = os.listdir(dirname)\n",
    "    \n",
    "    with ThreadPoolExecutor() as executor:\n",
    "        results = list(tqdm(executor.map(lambda fname: process_file(fname, dirname), ids), total=len(ids)))\n",
    "    \n",
    "    stats, indexes = zip(*results)\n",
    "    df = pd.DataFrame(stats, columns=[f\"stat_{i}\" for i in range(len(stats[0]))])\n",
    "    df['id'] = indexes\n",
    "    \n",
    "    return df"
   ]
  },
  {
   "cell_type": "code",
   "execution_count": 4,
   "id": "5720b04a",
   "metadata": {
    "execution": {
     "iopub.execute_input": "2024-12-22T02:00:46.478076Z",
     "iopub.status.busy": "2024-12-22T02:00:46.477655Z",
     "iopub.status.idle": "2024-12-22T02:00:46.482589Z",
     "shell.execute_reply": "2024-12-22T02:00:46.481387Z"
    },
    "papermill": {
     "duration": 0.01551,
     "end_time": "2024-12-22T02:00:46.484677",
     "exception": false,
     "start_time": "2024-12-22T02:00:46.469167",
     "status": "completed"
    },
    "tags": []
   },
   "outputs": [],
   "source": [
    "root = Path('/kaggle/input/child-mind-institute-problematic-internet-use')"
   ]
  },
  {
   "cell_type": "markdown",
   "id": "5f7563c3",
   "metadata": {
    "papermill": {
     "duration": 0.00688,
     "end_time": "2024-12-22T02:00:46.499014",
     "exception": false,
     "start_time": "2024-12-22T02:00:46.492134",
     "status": "completed"
    },
    "tags": []
   },
   "source": [
    "## Tabular Data"
   ]
  },
  {
   "cell_type": "code",
   "execution_count": 5,
   "id": "8b79a552",
   "metadata": {
    "execution": {
     "iopub.execute_input": "2024-12-22T02:00:46.515231Z",
     "iopub.status.busy": "2024-12-22T02:00:46.514842Z",
     "iopub.status.idle": "2024-12-22T02:00:46.610636Z",
     "shell.execute_reply": "2024-12-22T02:00:46.609740Z"
    },
    "papermill": {
     "duration": 0.106868,
     "end_time": "2024-12-22T02:00:46.613157",
     "exception": false,
     "start_time": "2024-12-22T02:00:46.506289",
     "status": "completed"
    },
    "tags": []
   },
   "outputs": [],
   "source": [
    "df_train = pd.read_csv(root / 'train.csv')\n",
    "df_test = pd.read_csv(root / 'test.csv')\n",
    "df_subm = pd.read_csv(root / 'sample_submission.csv', index_col='id')"
   ]
  },
  {
   "cell_type": "markdown",
   "id": "e3113c4d",
   "metadata": {
    "papermill": {
     "duration": 0.00676,
     "end_time": "2024-12-22T02:00:46.627213",
     "exception": false,
     "start_time": "2024-12-22T02:00:46.620453",
     "status": "completed"
    },
    "tags": []
   },
   "source": [
    "## Time Series Data"
   ]
  },
  {
   "cell_type": "code",
   "execution_count": 6,
   "id": "4c6ea9de",
   "metadata": {
    "execution": {
     "iopub.execute_input": "2024-12-22T02:00:46.643742Z",
     "iopub.status.busy": "2024-12-22T02:00:46.642760Z",
     "iopub.status.idle": "2024-12-22T02:02:14.436305Z",
     "shell.execute_reply": "2024-12-22T02:02:14.435037Z"
    },
    "papermill": {
     "duration": 87.804054,
     "end_time": "2024-12-22T02:02:14.438429",
     "exception": false,
     "start_time": "2024-12-22T02:00:46.634375",
     "status": "completed"
    },
    "tags": []
   },
   "outputs": [
    {
     "name": "stderr",
     "output_type": "stream",
     "text": [
      "100%|██████████| 996/996 [01:27<00:00, 11.39it/s]\n",
      "100%|██████████| 2/2 [00:00<00:00,  9.27it/s]\n"
     ]
    }
   ],
   "source": [
    "ts_train = load_time_series(root / \"series_train.parquet\")\n",
    "ts_test = load_time_series(root / \"series_test.parquet\")\n",
    "\n",
    "time_series_cols = ts_train.columns.tolist()\n",
    "time_series_cols.remove(\"id\")"
   ]
  },
  {
   "cell_type": "markdown",
   "id": "f781c393",
   "metadata": {
    "papermill": {
     "duration": 0.025063,
     "end_time": "2024-12-22T02:02:14.489477",
     "exception": false,
     "start_time": "2024-12-22T02:02:14.464414",
     "status": "completed"
    },
    "tags": []
   },
   "source": [
    "## Merge Operation"
   ]
  },
  {
   "cell_type": "code",
   "execution_count": 7,
   "id": "d04c5fe8",
   "metadata": {
    "execution": {
     "iopub.execute_input": "2024-12-22T02:02:14.542600Z",
     "iopub.status.busy": "2024-12-22T02:02:14.542247Z",
     "iopub.status.idle": "2024-12-22T02:02:14.578309Z",
     "shell.execute_reply": "2024-12-22T02:02:14.577450Z"
    },
    "papermill": {
     "duration": 0.064586,
     "end_time": "2024-12-22T02:02:14.580613",
     "exception": false,
     "start_time": "2024-12-22T02:02:14.516027",
     "status": "completed"
    },
    "tags": []
   },
   "outputs": [],
   "source": [
    "df_train = pd.merge(df_train, ts_train, how=\"left\", on='id')\n",
    "df_test = pd.merge(df_test, ts_test, how=\"left\", on='id')\n",
    "\n",
    "df_train = df_train.set_index('id')\n",
    "df_test = df_test.set_index('id')"
   ]
  },
  {
   "cell_type": "markdown",
   "id": "5703e442",
   "metadata": {
    "papermill": {
     "duration": 0.024781,
     "end_time": "2024-12-22T02:02:14.630515",
     "exception": false,
     "start_time": "2024-12-22T02:02:14.605734",
     "status": "completed"
    },
    "tags": []
   },
   "source": [
    "# Features"
   ]
  },
  {
   "cell_type": "markdown",
   "id": "de5cf167",
   "metadata": {
    "papermill": {
     "duration": 0.024905,
     "end_time": "2024-12-22T02:02:14.680369",
     "exception": false,
     "start_time": "2024-12-22T02:02:14.655464",
     "status": "completed"
    },
    "tags": []
   },
   "source": [
    "## Global Variables"
   ]
  },
  {
   "cell_type": "code",
   "execution_count": 8,
   "id": "51f61504",
   "metadata": {
    "execution": {
     "iopub.execute_input": "2024-12-22T02:02:14.731532Z",
     "iopub.status.busy": "2024-12-22T02:02:14.731182Z",
     "iopub.status.idle": "2024-12-22T02:02:14.739968Z",
     "shell.execute_reply": "2024-12-22T02:02:14.738957Z"
    },
    "papermill": {
     "duration": 0.036853,
     "end_time": "2024-12-22T02:02:14.741959",
     "exception": false,
     "start_time": "2024-12-22T02:02:14.705106",
     "status": "completed"
    },
    "tags": []
   },
   "outputs": [],
   "source": [
    "cat_cols = [\n",
    "    'Basic_Demos-Enroll_Season', 'CGAS-Season', 'Physical-Season',\n",
    "    'Fitness_Endurance-Season', 'FGC-Season', 'BIA-Season', \n",
    "    'PAQ_A-Season', 'PAQ_C-Season', 'SDS-Season', \n",
    "    'PreInt_EduHx-Season'\n",
    "]\n",
    "num_cols = [\n",
    "    'Basic_Demos-Age', 'Basic_Demos-Sex', 'CGAS-CGAS_Score', \n",
    "    'Physical-BMI', 'Physical-Height', 'Physical-Weight', \n",
    "    'Physical-Waist_Circumference', 'Physical-Diastolic_BP', \n",
    "    'Physical-HeartRate', 'Physical-Systolic_BP', \n",
    "    'Fitness_Endurance-Max_Stage', 'Fitness_Endurance-Time_Mins', 'Fitness_Endurance-Time_Sec', \n",
    "    'FGC-FGC_CU', 'FGC-FGC_CU_Zone', 'FGC-FGC_GSND', 'FGC-FGC_GSND_Zone', \n",
    "    'FGC-FGC_GSD', 'FGC-FGC_GSD_Zone', 'FGC-FGC_PU', 'FGC-FGC_PU_Zone', \n",
    "    'FGC-FGC_SRL', 'FGC-FGC_SRL_Zone', 'FGC-FGC_SRR', 'FGC-FGC_SRR_Zone', \n",
    "    'FGC-FGC_TL', 'FGC-FGC_TL_Zone', \n",
    "    'BIA-BIA_Activity_Level_num', 'BIA-BIA_BMC', \n",
    "    'BIA-BIA_BMI', 'BIA-BIA_BMR', 'BIA-BIA_DEE', \n",
    "    'BIA-BIA_ECW', 'BIA-BIA_FFM', 'BIA-BIA_FFMI', \n",
    "    'BIA-BIA_FMI', 'BIA-BIA_Fat', 'BIA-BIA_Frame_num', \n",
    "    'BIA-BIA_ICW', 'BIA-BIA_LDM', 'BIA-BIA_LST', 'BIA-BIA_SMM', 'BIA-BIA_TBW', \n",
    "    'PAQ_A-PAQ_A_Total', 'PAQ_C-PAQ_C_Total', \n",
    "    'SDS-SDS_Total_Raw', 'SDS-SDS_Total_T', \n",
    "    'PreInt_EduHx-computerinternet_hoursday'\n",
    "]\n",
    "tabular_cols = [\n",
    "    'Basic_Demos-Enroll_Season', 'Basic_Demos-Age', 'Basic_Demos-Sex', \n",
    "    'CGAS-Season', 'CGAS-CGAS_Score', \n",
    "    'Physical-Season', 'Physical-BMI', 'Physical-Height', \n",
    "    'Physical-Weight', 'Physical-Waist_Circumference', \n",
    "    'Physical-Diastolic_BP', 'Physical-HeartRate', 'Physical-Systolic_BP', \n",
    "    'Fitness_Endurance-Season', 'Fitness_Endurance-Max_Stage', \n",
    "    'Fitness_Endurance-Time_Mins', 'Fitness_Endurance-Time_Sec', \n",
    "    'FGC-Season', 'FGC-FGC_CU', 'FGC-FGC_CU_Zone', 'FGC-FGC_GSND', 'FGC-FGC_GSND_Zone', \n",
    "    'FGC-FGC_GSD', 'FGC-FGC_GSD_Zone', 'FGC-FGC_PU', 'FGC-FGC_PU_Zone', \n",
    "    'FGC-FGC_SRL', 'FGC-FGC_SRL_Zone', 'FGC-FGC_SRR', 'FGC-FGC_SRR_Zone', \n",
    "    'FGC-FGC_TL', 'FGC-FGC_TL_Zone',\n",
    "    'BIA-Season', 'BIA-BIA_Activity_Level_num', 'BIA-BIA_BMC', \n",
    "    'BIA-BIA_BMI', 'BIA-BIA_BMR', 'BIA-BIA_DEE', 'BIA-BIA_ECW', 'BIA-BIA_FFM', \n",
    "    'BIA-BIA_FFMI', 'BIA-BIA_FMI', 'BIA-BIA_Fat', 'BIA-BIA_Frame_num', \n",
    "    'BIA-BIA_ICW', 'BIA-BIA_LDM', 'BIA-BIA_LST', 'BIA-BIA_SMM', 'BIA-BIA_TBW', \n",
    "    'PAQ_A-Season', 'PAQ_A-PAQ_A_Total', 'PAQ_C-Season', 'PAQ_C-PAQ_C_Total',\n",
    "    'SDS-Season', 'SDS-SDS_Total_Raw', 'SDS-SDS_Total_T', \n",
    "    'PreInt_EduHx-Season', 'PreInt_EduHx-computerinternet_hoursday'\n",
    "]\n",
    "target_col = 'sii'\n",
    "\n",
    "feature_cols = tabular_cols + time_series_cols\n",
    "num_cols = num_cols + time_series_cols"
   ]
  },
  {
   "cell_type": "markdown",
   "id": "f4b7785a",
   "metadata": {
    "papermill": {
     "duration": 0.026355,
     "end_time": "2024-12-22T02:02:14.793664",
     "exception": false,
     "start_time": "2024-12-22T02:02:14.767309",
     "status": "completed"
    },
    "tags": []
   },
   "source": [
    "## Drop Rows with Missing Targets"
   ]
  },
  {
   "cell_type": "code",
   "execution_count": 9,
   "id": "49ad5699",
   "metadata": {
    "execution": {
     "iopub.execute_input": "2024-12-22T02:02:14.853509Z",
     "iopub.status.busy": "2024-12-22T02:02:14.853156Z",
     "iopub.status.idle": "2024-12-22T02:02:14.864864Z",
     "shell.execute_reply": "2024-12-22T02:02:14.863780Z"
    },
    "papermill": {
     "duration": 0.041476,
     "end_time": "2024-12-22T02:02:14.867114",
     "exception": false,
     "start_time": "2024-12-22T02:02:14.825638",
     "status": "completed"
    },
    "tags": []
   },
   "outputs": [],
   "source": [
    "df_train = df_train.dropna(subset=[target_col])"
   ]
  },
  {
   "cell_type": "markdown",
   "id": "97bfa115",
   "metadata": {
    "papermill": {
     "duration": 0.025891,
     "end_time": "2024-12-22T02:02:14.918809",
     "exception": false,
     "start_time": "2024-12-22T02:02:14.892918",
     "status": "completed"
    },
    "tags": []
   },
   "source": [
    "## Numeric Value Imputing"
   ]
  },
  {
   "cell_type": "code",
   "execution_count": 10,
   "id": "eab82f65",
   "metadata": {
    "execution": {
     "iopub.execute_input": "2024-12-22T02:02:14.971960Z",
     "iopub.status.busy": "2024-12-22T02:02:14.970970Z",
     "iopub.status.idle": "2024-12-22T02:02:15.031243Z",
     "shell.execute_reply": "2024-12-22T02:02:15.029989Z"
    },
    "papermill": {
     "duration": 0.08952,
     "end_time": "2024-12-22T02:02:15.033643",
     "exception": false,
     "start_time": "2024-12-22T02:02:14.944123",
     "status": "completed"
    },
    "tags": []
   },
   "outputs": [],
   "source": [
    "imputer = SimpleImputer(\n",
    "    strategy='mean',\n",
    ")\n",
    "\n",
    "df_train[num_cols] = imputer.fit_transform(df_train[num_cols])\n",
    "df_test[num_cols] = imputer.transform(df_test[num_cols])"
   ]
  },
  {
   "cell_type": "markdown",
   "id": "1143a73e",
   "metadata": {
    "papermill": {
     "duration": 0.02577,
     "end_time": "2024-12-22T02:02:15.084409",
     "exception": false,
     "start_time": "2024-12-22T02:02:15.058639",
     "status": "completed"
    },
    "tags": []
   },
   "source": [
    "## Category Encoding"
   ]
  },
  {
   "cell_type": "code",
   "execution_count": 11,
   "id": "a6dced23",
   "metadata": {
    "execution": {
     "iopub.execute_input": "2024-12-22T02:02:15.136835Z",
     "iopub.status.busy": "2024-12-22T02:02:15.136114Z",
     "iopub.status.idle": "2024-12-22T02:02:15.174669Z",
     "shell.execute_reply": "2024-12-22T02:02:15.173429Z"
    },
    "papermill": {
     "duration": 0.067513,
     "end_time": "2024-12-22T02:02:15.177250",
     "exception": false,
     "start_time": "2024-12-22T02:02:15.109737",
     "status": "completed"
    },
    "tags": []
   },
   "outputs": [],
   "source": [
    "encoder = OrdinalEncoder(\n",
    "    dtype=np.int32,\n",
    "    handle_unknown='use_encoded_value',\n",
    "    unknown_value=-1,\n",
    "    encoded_missing_value=-2,\n",
    ")\n",
    "\n",
    "df_train[cat_cols] = encoder.fit_transform(df_train[cat_cols])\n",
    "df_train[cat_cols] = df_train[cat_cols].astype('category')\n",
    "\n",
    "df_test[cat_cols] = encoder.transform(df_test[cat_cols])\n",
    "df_test[cat_cols] = df_test[cat_cols].astype('category')"
   ]
  },
  {
   "cell_type": "code",
   "execution_count": 12,
   "id": "90d215bb",
   "metadata": {
    "execution": {
     "iopub.execute_input": "2024-12-22T02:02:15.230032Z",
     "iopub.status.busy": "2024-12-22T02:02:15.229588Z",
     "iopub.status.idle": "2024-12-22T02:02:15.268129Z",
     "shell.execute_reply": "2024-12-22T02:02:15.266538Z"
    },
    "papermill": {
     "duration": 0.066971,
     "end_time": "2024-12-22T02:02:15.270415",
     "exception": false,
     "start_time": "2024-12-22T02:02:15.203444",
     "status": "completed"
    },
    "tags": []
   },
   "outputs": [
    {
     "data": {
      "text/html": [
       "<div>\n",
       "<style scoped>\n",
       "    .dataframe tbody tr th:only-of-type {\n",
       "        vertical-align: middle;\n",
       "    }\n",
       "\n",
       "    .dataframe tbody tr th {\n",
       "        vertical-align: top;\n",
       "    }\n",
       "\n",
       "    .dataframe thead th {\n",
       "        text-align: right;\n",
       "    }\n",
       "</style>\n",
       "<table border=\"1\" class=\"dataframe\">\n",
       "  <thead>\n",
       "    <tr style=\"text-align: right;\">\n",
       "      <th></th>\n",
       "      <th>Basic_Demos-Enroll_Season</th>\n",
       "      <th>Basic_Demos-Age</th>\n",
       "      <th>Basic_Demos-Sex</th>\n",
       "      <th>CGAS-Season</th>\n",
       "      <th>CGAS-CGAS_Score</th>\n",
       "      <th>Physical-Season</th>\n",
       "      <th>Physical-BMI</th>\n",
       "      <th>Physical-Height</th>\n",
       "      <th>Physical-Weight</th>\n",
       "      <th>Physical-Waist_Circumference</th>\n",
       "      <th>...</th>\n",
       "      <th>stat_86</th>\n",
       "      <th>stat_87</th>\n",
       "      <th>stat_88</th>\n",
       "      <th>stat_89</th>\n",
       "      <th>stat_90</th>\n",
       "      <th>stat_91</th>\n",
       "      <th>stat_92</th>\n",
       "      <th>stat_93</th>\n",
       "      <th>stat_94</th>\n",
       "      <th>stat_95</th>\n",
       "    </tr>\n",
       "    <tr>\n",
       "      <th>id</th>\n",
       "      <th></th>\n",
       "      <th></th>\n",
       "      <th></th>\n",
       "      <th></th>\n",
       "      <th></th>\n",
       "      <th></th>\n",
       "      <th></th>\n",
       "      <th></th>\n",
       "      <th></th>\n",
       "      <th></th>\n",
       "      <th></th>\n",
       "      <th></th>\n",
       "      <th></th>\n",
       "      <th></th>\n",
       "      <th></th>\n",
       "      <th></th>\n",
       "      <th></th>\n",
       "      <th></th>\n",
       "      <th></th>\n",
       "      <th></th>\n",
       "      <th></th>\n",
       "    </tr>\n",
       "  </thead>\n",
       "  <tbody>\n",
       "    <tr>\n",
       "      <th>00008ff9</th>\n",
       "      <td>0</td>\n",
       "      <td>5.0</td>\n",
       "      <td>0.0</td>\n",
       "      <td>3</td>\n",
       "      <td>51.000000</td>\n",
       "      <td>0</td>\n",
       "      <td>16.877316</td>\n",
       "      <td>46.0</td>\n",
       "      <td>50.8</td>\n",
       "      <td>26.625259</td>\n",
       "      <td>...</td>\n",
       "      <td>1.875645</td>\n",
       "      <td>3.674156</td>\n",
       "      <td>88.888246</td>\n",
       "      <td>0.650602</td>\n",
       "      <td>2335.652809</td>\n",
       "      <td>4180.122239</td>\n",
       "      <td>8.628980e+13</td>\n",
       "      <td>6.933735</td>\n",
       "      <td>2.615462</td>\n",
       "      <td>78.834337</td>\n",
       "    </tr>\n",
       "    <tr>\n",
       "      <th>000fd460</th>\n",
       "      <td>2</td>\n",
       "      <td>9.0</td>\n",
       "      <td>0.0</td>\n",
       "      <td>-2</td>\n",
       "      <td>65.159266</td>\n",
       "      <td>0</td>\n",
       "      <td>14.035590</td>\n",
       "      <td>48.0</td>\n",
       "      <td>46.0</td>\n",
       "      <td>22.000000</td>\n",
       "      <td>...</td>\n",
       "      <td>1.875645</td>\n",
       "      <td>3.674156</td>\n",
       "      <td>88.888246</td>\n",
       "      <td>0.650602</td>\n",
       "      <td>2335.652809</td>\n",
       "      <td>4180.122239</td>\n",
       "      <td>8.628980e+13</td>\n",
       "      <td>6.933735</td>\n",
       "      <td>2.615462</td>\n",
       "      <td>78.834337</td>\n",
       "    </tr>\n",
       "    <tr>\n",
       "      <th>00105258</th>\n",
       "      <td>2</td>\n",
       "      <td>10.0</td>\n",
       "      <td>1.0</td>\n",
       "      <td>0</td>\n",
       "      <td>71.000000</td>\n",
       "      <td>0</td>\n",
       "      <td>16.648696</td>\n",
       "      <td>56.5</td>\n",
       "      <td>75.6</td>\n",
       "      <td>26.625259</td>\n",
       "      <td>...</td>\n",
       "      <td>1.875645</td>\n",
       "      <td>3.674156</td>\n",
       "      <td>88.888246</td>\n",
       "      <td>0.650602</td>\n",
       "      <td>2335.652809</td>\n",
       "      <td>4180.122239</td>\n",
       "      <td>8.628980e+13</td>\n",
       "      <td>6.933735</td>\n",
       "      <td>2.615462</td>\n",
       "      <td>78.834337</td>\n",
       "    </tr>\n",
       "    <tr>\n",
       "      <th>00115b9f</th>\n",
       "      <td>3</td>\n",
       "      <td>9.0</td>\n",
       "      <td>0.0</td>\n",
       "      <td>0</td>\n",
       "      <td>71.000000</td>\n",
       "      <td>2</td>\n",
       "      <td>18.292347</td>\n",
       "      <td>56.0</td>\n",
       "      <td>81.6</td>\n",
       "      <td>26.625259</td>\n",
       "      <td>...</td>\n",
       "      <td>1.546979</td>\n",
       "      <td>4.004276</td>\n",
       "      <td>89.751656</td>\n",
       "      <td>0.000000</td>\n",
       "      <td>2633.250000</td>\n",
       "      <td>4188.500000</td>\n",
       "      <td>8.611000e+13</td>\n",
       "      <td>7.000000</td>\n",
       "      <td>3.000000</td>\n",
       "      <td>85.000000</td>\n",
       "    </tr>\n",
       "    <tr>\n",
       "      <th>001f3379</th>\n",
       "      <td>1</td>\n",
       "      <td>13.0</td>\n",
       "      <td>1.0</td>\n",
       "      <td>3</td>\n",
       "      <td>50.000000</td>\n",
       "      <td>2</td>\n",
       "      <td>22.279952</td>\n",
       "      <td>59.5</td>\n",
       "      <td>112.2</td>\n",
       "      <td>26.625259</td>\n",
       "      <td>...</td>\n",
       "      <td>1.146284</td>\n",
       "      <td>2.952888</td>\n",
       "      <td>89.476036</td>\n",
       "      <td>1.000000</td>\n",
       "      <td>2597.800049</td>\n",
       "      <td>4175.000000</td>\n",
       "      <td>8.639500e+13</td>\n",
       "      <td>7.000000</td>\n",
       "      <td>3.000000</td>\n",
       "      <td>91.000000</td>\n",
       "    </tr>\n",
       "    <tr>\n",
       "      <th>...</th>\n",
       "      <td>...</td>\n",
       "      <td>...</td>\n",
       "      <td>...</td>\n",
       "      <td>...</td>\n",
       "      <td>...</td>\n",
       "      <td>...</td>\n",
       "      <td>...</td>\n",
       "      <td>...</td>\n",
       "      <td>...</td>\n",
       "      <td>...</td>\n",
       "      <td>...</td>\n",
       "      <td>...</td>\n",
       "      <td>...</td>\n",
       "      <td>...</td>\n",
       "      <td>...</td>\n",
       "      <td>...</td>\n",
       "      <td>...</td>\n",
       "      <td>...</td>\n",
       "      <td>...</td>\n",
       "      <td>...</td>\n",
       "      <td>...</td>\n",
       "    </tr>\n",
       "    <tr>\n",
       "      <th>ff6c2bb8</th>\n",
       "      <td>0</td>\n",
       "      <td>8.0</td>\n",
       "      <td>0.0</td>\n",
       "      <td>-2</td>\n",
       "      <td>65.159266</td>\n",
       "      <td>0</td>\n",
       "      <td>17.139810</td>\n",
       "      <td>52.5</td>\n",
       "      <td>67.2</td>\n",
       "      <td>25.000000</td>\n",
       "      <td>...</td>\n",
       "      <td>1.875645</td>\n",
       "      <td>3.674156</td>\n",
       "      <td>88.888246</td>\n",
       "      <td>0.650602</td>\n",
       "      <td>2335.652809</td>\n",
       "      <td>4180.122239</td>\n",
       "      <td>8.628980e+13</td>\n",
       "      <td>6.933735</td>\n",
       "      <td>2.615462</td>\n",
       "      <td>78.834337</td>\n",
       "    </tr>\n",
       "    <tr>\n",
       "      <th>ff759544</th>\n",
       "      <td>2</td>\n",
       "      <td>7.0</td>\n",
       "      <td>1.0</td>\n",
       "      <td>-2</td>\n",
       "      <td>65.159266</td>\n",
       "      <td>2</td>\n",
       "      <td>13.927006</td>\n",
       "      <td>48.5</td>\n",
       "      <td>46.6</td>\n",
       "      <td>23.000000</td>\n",
       "      <td>...</td>\n",
       "      <td>1.875645</td>\n",
       "      <td>3.674156</td>\n",
       "      <td>88.888246</td>\n",
       "      <td>0.650602</td>\n",
       "      <td>2335.652809</td>\n",
       "      <td>4180.122239</td>\n",
       "      <td>8.628980e+13</td>\n",
       "      <td>6.933735</td>\n",
       "      <td>2.615462</td>\n",
       "      <td>78.834337</td>\n",
       "    </tr>\n",
       "    <tr>\n",
       "      <th>ff8a2de4</th>\n",
       "      <td>0</td>\n",
       "      <td>13.0</td>\n",
       "      <td>0.0</td>\n",
       "      <td>1</td>\n",
       "      <td>60.000000</td>\n",
       "      <td>0</td>\n",
       "      <td>16.362460</td>\n",
       "      <td>59.5</td>\n",
       "      <td>82.4</td>\n",
       "      <td>26.625259</td>\n",
       "      <td>...</td>\n",
       "      <td>1.875645</td>\n",
       "      <td>3.674156</td>\n",
       "      <td>88.888246</td>\n",
       "      <td>0.650602</td>\n",
       "      <td>2335.652809</td>\n",
       "      <td>4180.122239</td>\n",
       "      <td>8.628980e+13</td>\n",
       "      <td>6.933735</td>\n",
       "      <td>2.615462</td>\n",
       "      <td>78.834337</td>\n",
       "    </tr>\n",
       "    <tr>\n",
       "      <th>ffcd4dbd</th>\n",
       "      <td>0</td>\n",
       "      <td>11.0</td>\n",
       "      <td>0.0</td>\n",
       "      <td>1</td>\n",
       "      <td>68.000000</td>\n",
       "      <td>3</td>\n",
       "      <td>21.441500</td>\n",
       "      <td>60.0</td>\n",
       "      <td>109.8</td>\n",
       "      <td>26.625259</td>\n",
       "      <td>...</td>\n",
       "      <td>1.468296</td>\n",
       "      <td>3.078876</td>\n",
       "      <td>89.693832</td>\n",
       "      <td>1.000000</td>\n",
       "      <td>2605.750000</td>\n",
       "      <td>4185.000000</td>\n",
       "      <td>8.639500e+13</td>\n",
       "      <td>7.000000</td>\n",
       "      <td>1.000000</td>\n",
       "      <td>72.000000</td>\n",
       "    </tr>\n",
       "    <tr>\n",
       "      <th>ffed1dd5</th>\n",
       "      <td>1</td>\n",
       "      <td>13.0</td>\n",
       "      <td>0.0</td>\n",
       "      <td>1</td>\n",
       "      <td>70.000000</td>\n",
       "      <td>3</td>\n",
       "      <td>12.235895</td>\n",
       "      <td>70.7</td>\n",
       "      <td>87.0</td>\n",
       "      <td>26.625259</td>\n",
       "      <td>...</td>\n",
       "      <td>1.467054</td>\n",
       "      <td>3.417329</td>\n",
       "      <td>89.931534</td>\n",
       "      <td>1.000000</td>\n",
       "      <td>1186.599976</td>\n",
       "      <td>4189.000000</td>\n",
       "      <td>8.639500e+13</td>\n",
       "      <td>7.000000</td>\n",
       "      <td>1.000000</td>\n",
       "      <td>324.000000</td>\n",
       "    </tr>\n",
       "  </tbody>\n",
       "</table>\n",
       "<p>2736 rows × 177 columns</p>\n",
       "</div>"
      ],
      "text/plain": [
       "         Basic_Demos-Enroll_Season  Basic_Demos-Age  Basic_Demos-Sex  \\\n",
       "id                                                                     \n",
       "00008ff9                         0              5.0              0.0   \n",
       "000fd460                         2              9.0              0.0   \n",
       "00105258                         2             10.0              1.0   \n",
       "00115b9f                         3              9.0              0.0   \n",
       "001f3379                         1             13.0              1.0   \n",
       "...                            ...              ...              ...   \n",
       "ff6c2bb8                         0              8.0              0.0   \n",
       "ff759544                         2              7.0              1.0   \n",
       "ff8a2de4                         0             13.0              0.0   \n",
       "ffcd4dbd                         0             11.0              0.0   \n",
       "ffed1dd5                         1             13.0              0.0   \n",
       "\n",
       "         CGAS-Season  CGAS-CGAS_Score Physical-Season  Physical-BMI  \\\n",
       "id                                                                    \n",
       "00008ff9           3        51.000000               0     16.877316   \n",
       "000fd460          -2        65.159266               0     14.035590   \n",
       "00105258           0        71.000000               0     16.648696   \n",
       "00115b9f           0        71.000000               2     18.292347   \n",
       "001f3379           3        50.000000               2     22.279952   \n",
       "...              ...              ...             ...           ...   \n",
       "ff6c2bb8          -2        65.159266               0     17.139810   \n",
       "ff759544          -2        65.159266               2     13.927006   \n",
       "ff8a2de4           1        60.000000               0     16.362460   \n",
       "ffcd4dbd           1        68.000000               3     21.441500   \n",
       "ffed1dd5           1        70.000000               3     12.235895   \n",
       "\n",
       "          Physical-Height  Physical-Weight  Physical-Waist_Circumference  ...  \\\n",
       "id                                                                        ...   \n",
       "00008ff9             46.0             50.8                     26.625259  ...   \n",
       "000fd460             48.0             46.0                     22.000000  ...   \n",
       "00105258             56.5             75.6                     26.625259  ...   \n",
       "00115b9f             56.0             81.6                     26.625259  ...   \n",
       "001f3379             59.5            112.2                     26.625259  ...   \n",
       "...                   ...              ...                           ...  ...   \n",
       "ff6c2bb8             52.5             67.2                     25.000000  ...   \n",
       "ff759544             48.5             46.6                     23.000000  ...   \n",
       "ff8a2de4             59.5             82.4                     26.625259  ...   \n",
       "ffcd4dbd             60.0            109.8                     26.625259  ...   \n",
       "ffed1dd5             70.7             87.0                     26.625259  ...   \n",
       "\n",
       "           stat_86   stat_87    stat_88   stat_89      stat_90      stat_91  \\\n",
       "id                                                                            \n",
       "00008ff9  1.875645  3.674156  88.888246  0.650602  2335.652809  4180.122239   \n",
       "000fd460  1.875645  3.674156  88.888246  0.650602  2335.652809  4180.122239   \n",
       "00105258  1.875645  3.674156  88.888246  0.650602  2335.652809  4180.122239   \n",
       "00115b9f  1.546979  4.004276  89.751656  0.000000  2633.250000  4188.500000   \n",
       "001f3379  1.146284  2.952888  89.476036  1.000000  2597.800049  4175.000000   \n",
       "...            ...       ...        ...       ...          ...          ...   \n",
       "ff6c2bb8  1.875645  3.674156  88.888246  0.650602  2335.652809  4180.122239   \n",
       "ff759544  1.875645  3.674156  88.888246  0.650602  2335.652809  4180.122239   \n",
       "ff8a2de4  1.875645  3.674156  88.888246  0.650602  2335.652809  4180.122239   \n",
       "ffcd4dbd  1.468296  3.078876  89.693832  1.000000  2605.750000  4185.000000   \n",
       "ffed1dd5  1.467054  3.417329  89.931534  1.000000  1186.599976  4189.000000   \n",
       "\n",
       "               stat_92   stat_93   stat_94     stat_95  \n",
       "id                                                      \n",
       "00008ff9  8.628980e+13  6.933735  2.615462   78.834337  \n",
       "000fd460  8.628980e+13  6.933735  2.615462   78.834337  \n",
       "00105258  8.628980e+13  6.933735  2.615462   78.834337  \n",
       "00115b9f  8.611000e+13  7.000000  3.000000   85.000000  \n",
       "001f3379  8.639500e+13  7.000000  3.000000   91.000000  \n",
       "...                ...       ...       ...         ...  \n",
       "ff6c2bb8  8.628980e+13  6.933735  2.615462   78.834337  \n",
       "ff759544  8.628980e+13  6.933735  2.615462   78.834337  \n",
       "ff8a2de4  8.628980e+13  6.933735  2.615462   78.834337  \n",
       "ffcd4dbd  8.639500e+13  7.000000  1.000000   72.000000  \n",
       "ffed1dd5  8.639500e+13  7.000000  1.000000  324.000000  \n",
       "\n",
       "[2736 rows x 177 columns]"
      ]
     },
     "execution_count": 12,
     "metadata": {},
     "output_type": "execute_result"
    }
   ],
   "source": [
    "df_train"
   ]
  },
  {
   "cell_type": "markdown",
   "id": "822f2f5d",
   "metadata": {
    "papermill": {
     "duration": 0.025398,
     "end_time": "2024-12-22T02:02:15.321545",
     "exception": false,
     "start_time": "2024-12-22T02:02:15.296147",
     "status": "completed"
    },
    "tags": []
   },
   "source": [
    "# Train"
   ]
  },
  {
   "cell_type": "markdown",
   "id": "9d165176",
   "metadata": {
    "papermill": {
     "duration": 0.025576,
     "end_time": "2024-12-22T02:02:15.372853",
     "exception": false,
     "start_time": "2024-12-22T02:02:15.347277",
     "status": "completed"
    },
    "tags": []
   },
   "source": [
    "## QWK"
   ]
  },
  {
   "cell_type": "code",
   "execution_count": 13,
   "id": "7fdaf5ef",
   "metadata": {
    "execution": {
     "iopub.execute_input": "2024-12-22T02:02:15.426788Z",
     "iopub.status.busy": "2024-12-22T02:02:15.425786Z",
     "iopub.status.idle": "2024-12-22T02:02:15.431174Z",
     "shell.execute_reply": "2024-12-22T02:02:15.430117Z"
    },
    "papermill": {
     "duration": 0.034772,
     "end_time": "2024-12-22T02:02:15.433160",
     "exception": false,
     "start_time": "2024-12-22T02:02:15.398388",
     "status": "completed"
    },
    "tags": []
   },
   "outputs": [],
   "source": [
    "def quadratic_weighted_kappa(estimator, X, y_true):\n",
    "    y_pred = estimator.predict(X).round()\n",
    "    return cohen_kappa_score(y_true, y_pred, weights='quadratic')"
   ]
  },
  {
   "cell_type": "code",
   "execution_count": 14,
   "id": "1aef8eee",
   "metadata": {
    "execution": {
     "iopub.execute_input": "2024-12-22T02:02:15.487074Z",
     "iopub.status.busy": "2024-12-22T02:02:15.486364Z",
     "iopub.status.idle": "2024-12-22T02:02:15.491760Z",
     "shell.execute_reply": "2024-12-22T02:02:15.490702Z"
    },
    "papermill": {
     "duration": 0.034567,
     "end_time": "2024-12-22T02:02:15.493774",
     "exception": false,
     "start_time": "2024-12-22T02:02:15.459207",
     "status": "completed"
    },
    "tags": []
   },
   "outputs": [],
   "source": [
    "def threshold_rounder(y_pred, thresholds):\n",
    "    return np.where(y_pred < thresholds[0], 0,\n",
    "                    np.where(y_pred < thresholds[1], 1,\n",
    "                             np.where(y_pred < thresholds[2], 2, 3)))"
   ]
  },
  {
   "cell_type": "code",
   "execution_count": 15,
   "id": "7f45b377",
   "metadata": {
    "execution": {
     "iopub.execute_input": "2024-12-22T02:02:15.548127Z",
     "iopub.status.busy": "2024-12-22T02:02:15.547726Z",
     "iopub.status.idle": "2024-12-22T02:02:15.552675Z",
     "shell.execute_reply": "2024-12-22T02:02:15.551808Z"
    },
    "papermill": {
     "duration": 0.033832,
     "end_time": "2024-12-22T02:02:15.554739",
     "exception": false,
     "start_time": "2024-12-22T02:02:15.520907",
     "status": "completed"
    },
    "tags": []
   },
   "outputs": [],
   "source": [
    "def eval_preds(thresholds, y_true, y_pred):\n",
    "    y_pred = threshold_rounder(y_pred, thresholds)\n",
    "    score = cohen_kappa_score(y_true, y_pred, weights='quadratic')\n",
    "    return -score"
   ]
  },
  {
   "cell_type": "markdown",
   "id": "dd07b9ba",
   "metadata": {
    "papermill": {
     "duration": 0.025352,
     "end_time": "2024-12-22T02:02:15.605690",
     "exception": false,
     "start_time": "2024-12-22T02:02:15.580338",
     "status": "completed"
    },
    "tags": []
   },
   "source": [
    "## LightGBM"
   ]
  },
  {
   "cell_type": "code",
   "execution_count": 16,
   "id": "3ed1e0df",
   "metadata": {
    "execution": {
     "iopub.execute_input": "2024-12-22T02:02:15.658375Z",
     "iopub.status.busy": "2024-12-22T02:02:15.657997Z",
     "iopub.status.idle": "2024-12-22T02:02:15.665258Z",
     "shell.execute_reply": "2024-12-22T02:02:15.664120Z"
    },
    "papermill": {
     "duration": 0.036175,
     "end_time": "2024-12-22T02:02:15.667392",
     "exception": false,
     "start_time": "2024-12-22T02:02:15.631217",
     "status": "completed"
    },
    "tags": []
   },
   "outputs": [],
   "source": [
    "class CustomLGBMRegressor(lgb.LGBMRegressor):\n",
    "    '''\n",
    "    Custom LightGBM Regressor\n",
    "    \n",
    "    It optimizes threshold values during fitting.\n",
    "    Main goal is preventing overfit on validation data.\n",
    "    '''\n",
    "    def fit(self, X, y, **kwargs):\n",
    "        super().fit(X, y, **kwargs)\n",
    "        y_pred = super().predict(X, **kwargs)\n",
    "        \n",
    "        self.optimizer = minimize(\n",
    "            eval_preds, \n",
    "            x0=[0.5, 1.5, 2.5], \n",
    "            args=(y, y_pred), \n",
    "            method='Nelder-Mead',\n",
    "        )\n",
    "        \n",
    "    def predict(self, X, **kwargs):\n",
    "        y_pred = super().predict(X, **kwargs)\n",
    "        y_pred = threshold_rounder(y_pred, self.optimizer.x)\n",
    "        return y_pred"
   ]
  },
  {
   "cell_type": "markdown",
   "id": "9da018a5",
   "metadata": {
    "papermill": {
     "duration": 0.025666,
     "end_time": "2024-12-22T02:02:15.718974",
     "exception": false,
     "start_time": "2024-12-22T02:02:15.693308",
     "status": "completed"
    },
    "tags": []
   },
   "source": [
    "## Optuna - Hyperparameter Tuning"
   ]
  },
  {
   "cell_type": "code",
   "execution_count": 17,
   "id": "8be50dc4",
   "metadata": {
    "execution": {
     "iopub.execute_input": "2024-12-22T02:02:15.829594Z",
     "iopub.status.busy": "2024-12-22T02:02:15.829228Z",
     "iopub.status.idle": "2024-12-22T02:02:15.838067Z",
     "shell.execute_reply": "2024-12-22T02:02:15.836840Z"
    },
    "papermill": {
     "duration": 0.038155,
     "end_time": "2024-12-22T02:02:15.840396",
     "exception": false,
     "start_time": "2024-12-22T02:02:15.802241",
     "status": "completed"
    },
    "tags": []
   },
   "outputs": [],
   "source": [
    "def lgb_objective(trial):\n",
    "    params = {\n",
    "        'objective':         'l2',\n",
    "        'verbosity':         -1,\n",
    "        'n_iter':            200,\n",
    "        'random_state':      SEED,\n",
    "        'boosting_type':     'gbdt',\n",
    "        'lambda_l1':         trial.suggest_float('lambda_l1', 1e-3, 10.0, log=True),\n",
    "        'lambda_l2':         trial.suggest_float('lambda_l2', 1e-3, 10.0, log=True),\n",
    "        'learning_rate':     trial.suggest_float('learning_rate', 1e-2, 1e-1, log=True),\n",
    "        'max_depth':         trial.suggest_int('max_depth', 4, 8),\n",
    "        'num_leaves':        trial.suggest_int('num_leaves', 16, 256),\n",
    "        'colsample_bytree':  trial.suggest_float('colsample_bytree', 0.4, 1.0),\n",
    "        'colsample_bynode':  trial.suggest_float('colsample_bynode', 0.4, 1.0),\n",
    "        'bagging_fraction':  trial.suggest_float('bagging_fraction', 0.4, 1.0),\n",
    "        'bagging_freq':      trial.suggest_int('bagging_freq', 1, 7),\n",
    "        'min_data_in_leaf':  trial.suggest_int('min_data_in_leaf', 5, 100),\n",
    "    }\n",
    "    \n",
    "    X = df_train[feature_cols]\n",
    "    y = df_train[target_col]\n",
    "    cv = StratifiedKFold(5, shuffle=True, random_state=SEED)\n",
    "    estimator = CustomLGBMRegressor(**params)\n",
    "\n",
    "    val_scores = cross_val_score(\n",
    "        estimator=estimator, \n",
    "        X=X, y=y, \n",
    "        cv=cv, \n",
    "        scoring=KAPPA_SCORER,\n",
    "    )\n",
    "\n",
    "    return np.mean(val_scores)"
   ]
  },
  {
   "cell_type": "code",
   "execution_count": 18,
   "id": "03f79fac",
   "metadata": {
    "execution": {
     "iopub.execute_input": "2024-12-22T02:02:15.894645Z",
     "iopub.status.busy": "2024-12-22T02:02:15.894248Z",
     "iopub.status.idle": "2024-12-22T02:02:15.898826Z",
     "shell.execute_reply": "2024-12-22T02:02:15.897734Z"
    },
    "papermill": {
     "duration": 0.034375,
     "end_time": "2024-12-22T02:02:15.900883",
     "exception": false,
     "start_time": "2024-12-22T02:02:15.866508",
     "status": "completed"
    },
    "tags": []
   },
   "outputs": [],
   "source": [
    "# study = optuna.create_study(direction='maximize', study_name='Regressor')\n",
    "# study.optimize(lgb_objective, n_trials=30, show_progress_bar=True)"
   ]
  },
  {
   "cell_type": "markdown",
   "id": "6707bb7c",
   "metadata": {
    "papermill": {
     "duration": 0.025723,
     "end_time": "2024-12-22T02:02:15.952971",
     "exception": false,
     "start_time": "2024-12-22T02:02:15.927248",
     "status": "completed"
    },
    "tags": []
   },
   "source": [
    "## Tuned Hyperparameters"
   ]
  },
  {
   "cell_type": "code",
   "execution_count": 19,
   "id": "db3be43c",
   "metadata": {
    "execution": {
     "iopub.execute_input": "2024-12-22T02:02:16.008086Z",
     "iopub.status.busy": "2024-12-22T02:02:16.007675Z",
     "iopub.status.idle": "2024-12-22T02:02:16.013950Z",
     "shell.execute_reply": "2024-12-22T02:02:16.012821Z"
    },
    "papermill": {
     "duration": 0.036499,
     "end_time": "2024-12-22T02:02:16.015983",
     "exception": false,
     "start_time": "2024-12-22T02:02:15.979484",
     "status": "completed"
    },
    "tags": []
   },
   "outputs": [],
   "source": [
    "params = {\n",
    "    'objective'       : 'l2',\n",
    "    'verbosity'       : -1,\n",
    "    'n_iter'          : 200,\n",
    "    'lambda_l1'       : 0.005116829730239727,\n",
    "    'lambda_l2'       : 0.0011520776712645852,\n",
    "    'learning_rate'   : 0.02376367323636638,\n",
    "    'max_depth'       : 5,\n",
    "    'num_leaves'      : 207,\n",
    "    'colsample_bytree': 0.7759862336963801,\n",
    "    'colsample_bynode': 0.5110355095943208,\n",
    "    'bagging_fraction': 0.5485770314992224,\n",
    "    'bagging_freq'    : 7,\n",
    "    'min_data_in_leaf': 78,\n",
    "}\n",
    "\n",
    "model = CustomLGBMRegressor(**params, random_state=SEED)"
   ]
  },
  {
   "cell_type": "markdown",
   "id": "d5e0e951",
   "metadata": {
    "papermill": {
     "duration": 0.025434,
     "end_time": "2024-12-22T02:02:16.067113",
     "exception": false,
     "start_time": "2024-12-22T02:02:16.041679",
     "status": "completed"
    },
    "tags": []
   },
   "source": [
    "## Cross Validation"
   ]
  },
  {
   "cell_type": "code",
   "execution_count": 20,
   "id": "5c789d85",
   "metadata": {
    "execution": {
     "iopub.execute_input": "2024-12-22T02:02:16.122108Z",
     "iopub.status.busy": "2024-12-22T02:02:16.121214Z",
     "iopub.status.idle": "2024-12-22T02:02:20.908280Z",
     "shell.execute_reply": "2024-12-22T02:02:20.906950Z"
    },
    "papermill": {
     "duration": 4.817248,
     "end_time": "2024-12-22T02:02:20.910676",
     "exception": false,
     "start_time": "2024-12-22T02:02:16.093428",
     "status": "completed"
    },
    "tags": []
   },
   "outputs": [
    {
     "name": "stdout",
     "output_type": "stream",
     "text": [
      "Fold 1: Train QWK = 0.5834, Validation QWK = 0.4828\n",
      "Fold 2: Train QWK = 0.5835, Validation QWK = 0.5143\n",
      "Fold 3: Train QWK = 0.5782, Validation QWK = 0.4697\n",
      "Fold 4: Train QWK = 0.5991, Validation QWK = 0.4347\n",
      "Fold 5: Train QWK = 0.5945, Validation QWK = 0.4565\n",
      "\n",
      "Mean Train QWK ---> 0.5878\n",
      "Mean Validation QWK ---> 0.4716\n",
      "Optimized QWK SCORE ---> 0.4714\n"
     ]
    }
   ],
   "source": [
    "X = df_train[feature_cols]\n",
    "y = df_train[target_col]\n",
    "\n",
    "# cv = StratifiedKFold(5, shuffle=True, random_state=SEED)\n",
    "# val_scores = cross_val_score(\n",
    "#     model, X, y, cv=cv, \n",
    "#     scoring=KAPPA_SCORER,\n",
    "# )\n",
    "# print(f'kappa score: {np.mean(val_scores):.4f}')\n",
    "\n",
    "oof_preds = np.zeros(len(y), dtype=float)\n",
    "\n",
    "cv = StratifiedKFold(5, shuffle=True, random_state=SEED)\n",
    "\n",
    "val_scores = []\n",
    "train_scores = []\n",
    "\n",
    "for train_idx, val_idx in cv.split(X, y):\n",
    "    X_train, X_val = X.iloc[train_idx], X.iloc[val_idx]\n",
    "    y_train, y_val = y.iloc[train_idx], y.iloc[val_idx]\n",
    "    \n",
    "    model_fold = clone(model)\n",
    "    model_fold.fit(X_train, y_train)\n",
    "\n",
    "    val_preds = model_fold.predict(X_val)\n",
    "    oof_preds[val_idx] = val_preds  \n",
    "    \n",
    "    train_kappa = quadratic_weighted_kappa(model_fold, X_train, y_train)\n",
    "    val_kappa = quadratic_weighted_kappa(model_fold, X_val, y_val)\n",
    "    \n",
    "    train_scores.append(train_kappa)\n",
    "    val_scores.append(val_kappa)\n",
    "    \n",
    "    print(f\"Fold {len(train_scores)}: Train QWK = {train_kappa:.4f}, Validation QWK = {val_kappa:.4f}\")\n",
    "\n",
    "mean_train_kappa = np.mean(train_scores)\n",
    "mean_val_kappa = np.mean(val_scores)\n",
    "\n",
    "print(f\"\\nMean Train QWK ---> {mean_train_kappa:.4f}\")\n",
    "print(f\"Mean Validation QWK ---> {mean_val_kappa:.4f}\")\n",
    "\n",
    "KappaOptimizer = minimize(\n",
    "    eval_preds, \n",
    "    x0=[0.5, 1.5, 2.5], \n",
    "    args=(y, oof_preds),\n",
    "    method='Nelder-Mead'\n",
    ")\n",
    "assert KappaOptimizer.success, \"Optimization did not converge.\"\n",
    "\n",
    "optimized_thresholds = KappaOptimizer.x\n",
    "oof_tuned = threshold_rounder(oof_preds, optimized_thresholds)\n",
    "optimized_qwk = cohen_kappa_score(y, oof_tuned, weights='quadratic')\n",
    "\n",
    "print(f\"Optimized QWK SCORE ---> {optimized_qwk:.4f}\")"
   ]
  },
  {
   "cell_type": "markdown",
   "id": "398b34b4",
   "metadata": {
    "papermill": {
     "duration": 0.026017,
     "end_time": "2024-12-22T02:02:20.964161",
     "exception": false,
     "start_time": "2024-12-22T02:02:20.938144",
     "status": "completed"
    },
    "tags": []
   },
   "source": [
    "## Seed Ensembling"
   ]
  },
  {
   "cell_type": "code",
   "execution_count": 21,
   "id": "ccc8298a",
   "metadata": {
    "execution": {
     "iopub.execute_input": "2024-12-22T02:02:21.018641Z",
     "iopub.status.busy": "2024-12-22T02:02:21.017855Z",
     "iopub.status.idle": "2024-12-22T02:02:21.024660Z",
     "shell.execute_reply": "2024-12-22T02:02:21.023551Z"
    },
    "papermill": {
     "duration": 0.036538,
     "end_time": "2024-12-22T02:02:21.026765",
     "exception": false,
     "start_time": "2024-12-22T02:02:20.990227",
     "status": "completed"
    },
    "tags": []
   },
   "outputs": [],
   "source": [
    "ensemble_model = VotingRegressor([\n",
    "    ('lgb_0', CustomLGBMRegressor(**params, random_state=12)),\n",
    "    ('lgb_1', CustomLGBMRegressor(**params, random_state=22)),\n",
    "    ('lgb_2', CustomLGBMRegressor(**params, random_state=32)),\n",
    "    ('lgb_3', CustomLGBMRegressor(**params, random_state=42)),\n",
    "    ('lgb_4', CustomLGBMRegressor(**params, random_state=52)),\n",
    "    ('lgb_5', CustomLGBMRegressor(**params, random_state=62)),\n",
    "    ('lgb_6', CustomLGBMRegressor(**params, random_state=72)),\n",
    "    ('lgb_7', CustomLGBMRegressor(**params, random_state=82)),\n",
    "    ('lgb_8', CustomLGBMRegressor(**params, random_state=92)),\n",
    "    ('lgb_9', CustomLGBMRegressor(**params, random_state=102)),\n",
    "])"
   ]
  },
  {
   "cell_type": "markdown",
   "id": "40fa6761",
   "metadata": {
    "papermill": {
     "duration": 0.025888,
     "end_time": "2024-12-22T02:02:21.079674",
     "exception": false,
     "start_time": "2024-12-22T02:02:21.053786",
     "status": "completed"
    },
    "tags": []
   },
   "source": [
    "## Training"
   ]
  },
  {
   "cell_type": "code",
   "execution_count": 22,
   "id": "af7e7d99",
   "metadata": {
    "execution": {
     "iopub.execute_input": "2024-12-22T02:02:21.136302Z",
     "iopub.status.busy": "2024-12-22T02:02:21.135788Z",
     "iopub.status.idle": "2024-12-22T02:02:30.389976Z",
     "shell.execute_reply": "2024-12-22T02:02:30.389043Z"
    },
    "papermill": {
     "duration": 9.285576,
     "end_time": "2024-12-22T02:02:30.392528",
     "exception": false,
     "start_time": "2024-12-22T02:02:21.106952",
     "status": "completed"
    },
    "tags": []
   },
   "outputs": [
    {
     "data": {
      "text/html": [
       "<style>#sk-container-id-1 {color: black;background-color: white;}#sk-container-id-1 pre{padding: 0;}#sk-container-id-1 div.sk-toggleable {background-color: white;}#sk-container-id-1 label.sk-toggleable__label {cursor: pointer;display: block;width: 100%;margin-bottom: 0;padding: 0.3em;box-sizing: border-box;text-align: center;}#sk-container-id-1 label.sk-toggleable__label-arrow:before {content: \"▸\";float: left;margin-right: 0.25em;color: #696969;}#sk-container-id-1 label.sk-toggleable__label-arrow:hover:before {color: black;}#sk-container-id-1 div.sk-estimator:hover label.sk-toggleable__label-arrow:before {color: black;}#sk-container-id-1 div.sk-toggleable__content {max-height: 0;max-width: 0;overflow: hidden;text-align: left;background-color: #f0f8ff;}#sk-container-id-1 div.sk-toggleable__content pre {margin: 0.2em;color: black;border-radius: 0.25em;background-color: #f0f8ff;}#sk-container-id-1 input.sk-toggleable__control:checked~div.sk-toggleable__content {max-height: 200px;max-width: 100%;overflow: auto;}#sk-container-id-1 input.sk-toggleable__control:checked~label.sk-toggleable__label-arrow:before {content: \"▾\";}#sk-container-id-1 div.sk-estimator input.sk-toggleable__control:checked~label.sk-toggleable__label {background-color: #d4ebff;}#sk-container-id-1 div.sk-label input.sk-toggleable__control:checked~label.sk-toggleable__label {background-color: #d4ebff;}#sk-container-id-1 input.sk-hidden--visually {border: 0;clip: rect(1px 1px 1px 1px);clip: rect(1px, 1px, 1px, 1px);height: 1px;margin: -1px;overflow: hidden;padding: 0;position: absolute;width: 1px;}#sk-container-id-1 div.sk-estimator {font-family: monospace;background-color: #f0f8ff;border: 1px dotted black;border-radius: 0.25em;box-sizing: border-box;margin-bottom: 0.5em;}#sk-container-id-1 div.sk-estimator:hover {background-color: #d4ebff;}#sk-container-id-1 div.sk-parallel-item::after {content: \"\";width: 100%;border-bottom: 1px solid gray;flex-grow: 1;}#sk-container-id-1 div.sk-label:hover label.sk-toggleable__label {background-color: #d4ebff;}#sk-container-id-1 div.sk-serial::before {content: \"\";position: absolute;border-left: 1px solid gray;box-sizing: border-box;top: 0;bottom: 0;left: 50%;z-index: 0;}#sk-container-id-1 div.sk-serial {display: flex;flex-direction: column;align-items: center;background-color: white;padding-right: 0.2em;padding-left: 0.2em;position: relative;}#sk-container-id-1 div.sk-item {position: relative;z-index: 1;}#sk-container-id-1 div.sk-parallel {display: flex;align-items: stretch;justify-content: center;background-color: white;position: relative;}#sk-container-id-1 div.sk-item::before, #sk-container-id-1 div.sk-parallel-item::before {content: \"\";position: absolute;border-left: 1px solid gray;box-sizing: border-box;top: 0;bottom: 0;left: 50%;z-index: -1;}#sk-container-id-1 div.sk-parallel-item {display: flex;flex-direction: column;z-index: 1;position: relative;background-color: white;}#sk-container-id-1 div.sk-parallel-item:first-child::after {align-self: flex-end;width: 50%;}#sk-container-id-1 div.sk-parallel-item:last-child::after {align-self: flex-start;width: 50%;}#sk-container-id-1 div.sk-parallel-item:only-child::after {width: 0;}#sk-container-id-1 div.sk-dashed-wrapped {border: 1px dashed gray;margin: 0 0.4em 0.5em 0.4em;box-sizing: border-box;padding-bottom: 0.4em;background-color: white;}#sk-container-id-1 div.sk-label label {font-family: monospace;font-weight: bold;display: inline-block;line-height: 1.2em;}#sk-container-id-1 div.sk-label-container {text-align: center;}#sk-container-id-1 div.sk-container {/* jupyter's `normalize.less` sets `[hidden] { display: none; }` but bootstrap.min.css set `[hidden] { display: none !important; }` so we also need the `!important` here to be able to override the default hidden behavior on the sphinx rendered scikit-learn.org. See: https://github.com/scikit-learn/scikit-learn/issues/21755 */display: inline-block !important;position: relative;}#sk-container-id-1 div.sk-text-repr-fallback {display: none;}</style><div id=\"sk-container-id-1\" class=\"sk-top-container\"><div class=\"sk-text-repr-fallback\"><pre>VotingRegressor(estimators=[(&#x27;lgb_0&#x27;,\n",
       "                             CustomLGBMRegressor(bagging_fraction=0.5485770314992224,\n",
       "                                                 bagging_freq=7,\n",
       "                                                 colsample_bynode=0.5110355095943208,\n",
       "                                                 colsample_bytree=0.7759862336963801,\n",
       "                                                 lambda_l1=0.005116829730239727,\n",
       "                                                 lambda_l2=0.0011520776712645852,\n",
       "                                                 learning_rate=0.02376367323636638,\n",
       "                                                 max_depth=5,\n",
       "                                                 min_data_in_leaf=78,\n",
       "                                                 n_iter=200, num_leaves=207,\n",
       "                                                 objective=&#x27;l2&#x27;,...\n",
       "                            (&#x27;lgb_9&#x27;,\n",
       "                             CustomLGBMRegressor(bagging_fraction=0.5485770314992224,\n",
       "                                                 bagging_freq=7,\n",
       "                                                 colsample_bynode=0.5110355095943208,\n",
       "                                                 colsample_bytree=0.7759862336963801,\n",
       "                                                 lambda_l1=0.005116829730239727,\n",
       "                                                 lambda_l2=0.0011520776712645852,\n",
       "                                                 learning_rate=0.02376367323636638,\n",
       "                                                 max_depth=5,\n",
       "                                                 min_data_in_leaf=78,\n",
       "                                                 n_iter=200, num_leaves=207,\n",
       "                                                 objective=&#x27;l2&#x27;,\n",
       "                                                 random_state=102,\n",
       "                                                 verbosity=-1))])</pre><b>In a Jupyter environment, please rerun this cell to show the HTML representation or trust the notebook. <br />On GitHub, the HTML representation is unable to render, please try loading this page with nbviewer.org.</b></div><div class=\"sk-container\" hidden><div class=\"sk-item sk-dashed-wrapped\"><div class=\"sk-label-container\"><div class=\"sk-label sk-toggleable\"><input class=\"sk-toggleable__control sk-hidden--visually\" id=\"sk-estimator-id-1\" type=\"checkbox\" ><label for=\"sk-estimator-id-1\" class=\"sk-toggleable__label sk-toggleable__label-arrow\">VotingRegressor</label><div class=\"sk-toggleable__content\"><pre>VotingRegressor(estimators=[(&#x27;lgb_0&#x27;,\n",
       "                             CustomLGBMRegressor(bagging_fraction=0.5485770314992224,\n",
       "                                                 bagging_freq=7,\n",
       "                                                 colsample_bynode=0.5110355095943208,\n",
       "                                                 colsample_bytree=0.7759862336963801,\n",
       "                                                 lambda_l1=0.005116829730239727,\n",
       "                                                 lambda_l2=0.0011520776712645852,\n",
       "                                                 learning_rate=0.02376367323636638,\n",
       "                                                 max_depth=5,\n",
       "                                                 min_data_in_leaf=78,\n",
       "                                                 n_iter=200, num_leaves=207,\n",
       "                                                 objective=&#x27;l2&#x27;,...\n",
       "                            (&#x27;lgb_9&#x27;,\n",
       "                             CustomLGBMRegressor(bagging_fraction=0.5485770314992224,\n",
       "                                                 bagging_freq=7,\n",
       "                                                 colsample_bynode=0.5110355095943208,\n",
       "                                                 colsample_bytree=0.7759862336963801,\n",
       "                                                 lambda_l1=0.005116829730239727,\n",
       "                                                 lambda_l2=0.0011520776712645852,\n",
       "                                                 learning_rate=0.02376367323636638,\n",
       "                                                 max_depth=5,\n",
       "                                                 min_data_in_leaf=78,\n",
       "                                                 n_iter=200, num_leaves=207,\n",
       "                                                 objective=&#x27;l2&#x27;,\n",
       "                                                 random_state=102,\n",
       "                                                 verbosity=-1))])</pre></div></div></div><div class=\"sk-parallel\"><div class=\"sk-parallel-item\"><div class=\"sk-item\"><div class=\"sk-label-container\"><div class=\"sk-label sk-toggleable\"><label>lgb_0</label></div></div><div class=\"sk-serial\"><div class=\"sk-item\"><div class=\"sk-estimator sk-toggleable\"><input class=\"sk-toggleable__control sk-hidden--visually\" id=\"sk-estimator-id-2\" type=\"checkbox\" ><label for=\"sk-estimator-id-2\" class=\"sk-toggleable__label sk-toggleable__label-arrow\">CustomLGBMRegressor</label><div class=\"sk-toggleable__content\"><pre>CustomLGBMRegressor(bagging_fraction=0.5485770314992224, bagging_freq=7,\n",
       "                    colsample_bynode=0.5110355095943208,\n",
       "                    colsample_bytree=0.7759862336963801,\n",
       "                    lambda_l1=0.005116829730239727,\n",
       "                    lambda_l2=0.0011520776712645852,\n",
       "                    learning_rate=0.02376367323636638, max_depth=5,\n",
       "                    min_data_in_leaf=78, n_iter=200, num_leaves=207,\n",
       "                    objective=&#x27;l2&#x27;, random_state=12, verbosity=-1)</pre></div></div></div></div></div></div><div class=\"sk-parallel-item\"><div class=\"sk-item\"><div class=\"sk-label-container\"><div class=\"sk-label sk-toggleable\"><label>lgb_1</label></div></div><div class=\"sk-serial\"><div class=\"sk-item\"><div class=\"sk-estimator sk-toggleable\"><input class=\"sk-toggleable__control sk-hidden--visually\" id=\"sk-estimator-id-3\" type=\"checkbox\" ><label for=\"sk-estimator-id-3\" class=\"sk-toggleable__label sk-toggleable__label-arrow\">CustomLGBMRegressor</label><div class=\"sk-toggleable__content\"><pre>CustomLGBMRegressor(bagging_fraction=0.5485770314992224, bagging_freq=7,\n",
       "                    colsample_bynode=0.5110355095943208,\n",
       "                    colsample_bytree=0.7759862336963801,\n",
       "                    lambda_l1=0.005116829730239727,\n",
       "                    lambda_l2=0.0011520776712645852,\n",
       "                    learning_rate=0.02376367323636638, max_depth=5,\n",
       "                    min_data_in_leaf=78, n_iter=200, num_leaves=207,\n",
       "                    objective=&#x27;l2&#x27;, random_state=22, verbosity=-1)</pre></div></div></div></div></div></div><div class=\"sk-parallel-item\"><div class=\"sk-item\"><div class=\"sk-label-container\"><div class=\"sk-label sk-toggleable\"><label>lgb_2</label></div></div><div class=\"sk-serial\"><div class=\"sk-item\"><div class=\"sk-estimator sk-toggleable\"><input class=\"sk-toggleable__control sk-hidden--visually\" id=\"sk-estimator-id-4\" type=\"checkbox\" ><label for=\"sk-estimator-id-4\" class=\"sk-toggleable__label sk-toggleable__label-arrow\">CustomLGBMRegressor</label><div class=\"sk-toggleable__content\"><pre>CustomLGBMRegressor(bagging_fraction=0.5485770314992224, bagging_freq=7,\n",
       "                    colsample_bynode=0.5110355095943208,\n",
       "                    colsample_bytree=0.7759862336963801,\n",
       "                    lambda_l1=0.005116829730239727,\n",
       "                    lambda_l2=0.0011520776712645852,\n",
       "                    learning_rate=0.02376367323636638, max_depth=5,\n",
       "                    min_data_in_leaf=78, n_iter=200, num_leaves=207,\n",
       "                    objective=&#x27;l2&#x27;, random_state=32, verbosity=-1)</pre></div></div></div></div></div></div><div class=\"sk-parallel-item\"><div class=\"sk-item\"><div class=\"sk-label-container\"><div class=\"sk-label sk-toggleable\"><label>lgb_3</label></div></div><div class=\"sk-serial\"><div class=\"sk-item\"><div class=\"sk-estimator sk-toggleable\"><input class=\"sk-toggleable__control sk-hidden--visually\" id=\"sk-estimator-id-5\" type=\"checkbox\" ><label for=\"sk-estimator-id-5\" class=\"sk-toggleable__label sk-toggleable__label-arrow\">CustomLGBMRegressor</label><div class=\"sk-toggleable__content\"><pre>CustomLGBMRegressor(bagging_fraction=0.5485770314992224, bagging_freq=7,\n",
       "                    colsample_bynode=0.5110355095943208,\n",
       "                    colsample_bytree=0.7759862336963801,\n",
       "                    lambda_l1=0.005116829730239727,\n",
       "                    lambda_l2=0.0011520776712645852,\n",
       "                    learning_rate=0.02376367323636638, max_depth=5,\n",
       "                    min_data_in_leaf=78, n_iter=200, num_leaves=207,\n",
       "                    objective=&#x27;l2&#x27;, random_state=42, verbosity=-1)</pre></div></div></div></div></div></div><div class=\"sk-parallel-item\"><div class=\"sk-item\"><div class=\"sk-label-container\"><div class=\"sk-label sk-toggleable\"><label>lgb_4</label></div></div><div class=\"sk-serial\"><div class=\"sk-item\"><div class=\"sk-estimator sk-toggleable\"><input class=\"sk-toggleable__control sk-hidden--visually\" id=\"sk-estimator-id-6\" type=\"checkbox\" ><label for=\"sk-estimator-id-6\" class=\"sk-toggleable__label sk-toggleable__label-arrow\">CustomLGBMRegressor</label><div class=\"sk-toggleable__content\"><pre>CustomLGBMRegressor(bagging_fraction=0.5485770314992224, bagging_freq=7,\n",
       "                    colsample_bynode=0.5110355095943208,\n",
       "                    colsample_bytree=0.7759862336963801,\n",
       "                    lambda_l1=0.005116829730239727,\n",
       "                    lambda_l2=0.0011520776712645852,\n",
       "                    learning_rate=0.02376367323636638, max_depth=5,\n",
       "                    min_data_in_leaf=78, n_iter=200, num_leaves=207,\n",
       "                    objective=&#x27;l2&#x27;, random_state=52, verbosity=-1)</pre></div></div></div></div></div></div><div class=\"sk-parallel-item\"><div class=\"sk-item\"><div class=\"sk-label-container\"><div class=\"sk-label sk-toggleable\"><label>lgb_5</label></div></div><div class=\"sk-serial\"><div class=\"sk-item\"><div class=\"sk-estimator sk-toggleable\"><input class=\"sk-toggleable__control sk-hidden--visually\" id=\"sk-estimator-id-7\" type=\"checkbox\" ><label for=\"sk-estimator-id-7\" class=\"sk-toggleable__label sk-toggleable__label-arrow\">CustomLGBMRegressor</label><div class=\"sk-toggleable__content\"><pre>CustomLGBMRegressor(bagging_fraction=0.5485770314992224, bagging_freq=7,\n",
       "                    colsample_bynode=0.5110355095943208,\n",
       "                    colsample_bytree=0.7759862336963801,\n",
       "                    lambda_l1=0.005116829730239727,\n",
       "                    lambda_l2=0.0011520776712645852,\n",
       "                    learning_rate=0.02376367323636638, max_depth=5,\n",
       "                    min_data_in_leaf=78, n_iter=200, num_leaves=207,\n",
       "                    objective=&#x27;l2&#x27;, random_state=62, verbosity=-1)</pre></div></div></div></div></div></div><div class=\"sk-parallel-item\"><div class=\"sk-item\"><div class=\"sk-label-container\"><div class=\"sk-label sk-toggleable\"><label>lgb_6</label></div></div><div class=\"sk-serial\"><div class=\"sk-item\"><div class=\"sk-estimator sk-toggleable\"><input class=\"sk-toggleable__control sk-hidden--visually\" id=\"sk-estimator-id-8\" type=\"checkbox\" ><label for=\"sk-estimator-id-8\" class=\"sk-toggleable__label sk-toggleable__label-arrow\">CustomLGBMRegressor</label><div class=\"sk-toggleable__content\"><pre>CustomLGBMRegressor(bagging_fraction=0.5485770314992224, bagging_freq=7,\n",
       "                    colsample_bynode=0.5110355095943208,\n",
       "                    colsample_bytree=0.7759862336963801,\n",
       "                    lambda_l1=0.005116829730239727,\n",
       "                    lambda_l2=0.0011520776712645852,\n",
       "                    learning_rate=0.02376367323636638, max_depth=5,\n",
       "                    min_data_in_leaf=78, n_iter=200, num_leaves=207,\n",
       "                    objective=&#x27;l2&#x27;, random_state=72, verbosity=-1)</pre></div></div></div></div></div></div><div class=\"sk-parallel-item\"><div class=\"sk-item\"><div class=\"sk-label-container\"><div class=\"sk-label sk-toggleable\"><label>lgb_7</label></div></div><div class=\"sk-serial\"><div class=\"sk-item\"><div class=\"sk-estimator sk-toggleable\"><input class=\"sk-toggleable__control sk-hidden--visually\" id=\"sk-estimator-id-9\" type=\"checkbox\" ><label for=\"sk-estimator-id-9\" class=\"sk-toggleable__label sk-toggleable__label-arrow\">CustomLGBMRegressor</label><div class=\"sk-toggleable__content\"><pre>CustomLGBMRegressor(bagging_fraction=0.5485770314992224, bagging_freq=7,\n",
       "                    colsample_bynode=0.5110355095943208,\n",
       "                    colsample_bytree=0.7759862336963801,\n",
       "                    lambda_l1=0.005116829730239727,\n",
       "                    lambda_l2=0.0011520776712645852,\n",
       "                    learning_rate=0.02376367323636638, max_depth=5,\n",
       "                    min_data_in_leaf=78, n_iter=200, num_leaves=207,\n",
       "                    objective=&#x27;l2&#x27;, random_state=82, verbosity=-1)</pre></div></div></div></div></div></div><div class=\"sk-parallel-item\"><div class=\"sk-item\"><div class=\"sk-label-container\"><div class=\"sk-label sk-toggleable\"><label>lgb_8</label></div></div><div class=\"sk-serial\"><div class=\"sk-item\"><div class=\"sk-estimator sk-toggleable\"><input class=\"sk-toggleable__control sk-hidden--visually\" id=\"sk-estimator-id-10\" type=\"checkbox\" ><label for=\"sk-estimator-id-10\" class=\"sk-toggleable__label sk-toggleable__label-arrow\">CustomLGBMRegressor</label><div class=\"sk-toggleable__content\"><pre>CustomLGBMRegressor(bagging_fraction=0.5485770314992224, bagging_freq=7,\n",
       "                    colsample_bynode=0.5110355095943208,\n",
       "                    colsample_bytree=0.7759862336963801,\n",
       "                    lambda_l1=0.005116829730239727,\n",
       "                    lambda_l2=0.0011520776712645852,\n",
       "                    learning_rate=0.02376367323636638, max_depth=5,\n",
       "                    min_data_in_leaf=78, n_iter=200, num_leaves=207,\n",
       "                    objective=&#x27;l2&#x27;, random_state=92, verbosity=-1)</pre></div></div></div></div></div></div><div class=\"sk-parallel-item\"><div class=\"sk-item\"><div class=\"sk-label-container\"><div class=\"sk-label sk-toggleable\"><label>lgb_9</label></div></div><div class=\"sk-serial\"><div class=\"sk-item\"><div class=\"sk-estimator sk-toggleable\"><input class=\"sk-toggleable__control sk-hidden--visually\" id=\"sk-estimator-id-11\" type=\"checkbox\" ><label for=\"sk-estimator-id-11\" class=\"sk-toggleable__label sk-toggleable__label-arrow\">CustomLGBMRegressor</label><div class=\"sk-toggleable__content\"><pre>CustomLGBMRegressor(bagging_fraction=0.5485770314992224, bagging_freq=7,\n",
       "                    colsample_bynode=0.5110355095943208,\n",
       "                    colsample_bytree=0.7759862336963801,\n",
       "                    lambda_l1=0.005116829730239727,\n",
       "                    lambda_l2=0.0011520776712645852,\n",
       "                    learning_rate=0.02376367323636638, max_depth=5,\n",
       "                    min_data_in_leaf=78, n_iter=200, num_leaves=207,\n",
       "                    objective=&#x27;l2&#x27;, random_state=102, verbosity=-1)</pre></div></div></div></div></div></div></div></div></div></div>"
      ],
      "text/plain": [
       "VotingRegressor(estimators=[('lgb_0',\n",
       "                             CustomLGBMRegressor(bagging_fraction=0.5485770314992224,\n",
       "                                                 bagging_freq=7,\n",
       "                                                 colsample_bynode=0.5110355095943208,\n",
       "                                                 colsample_bytree=0.7759862336963801,\n",
       "                                                 lambda_l1=0.005116829730239727,\n",
       "                                                 lambda_l2=0.0011520776712645852,\n",
       "                                                 learning_rate=0.02376367323636638,\n",
       "                                                 max_depth=5,\n",
       "                                                 min_data_in_leaf=78,\n",
       "                                                 n_iter=200, num_leaves=207,\n",
       "                                                 objective='l2',...\n",
       "                            ('lgb_9',\n",
       "                             CustomLGBMRegressor(bagging_fraction=0.5485770314992224,\n",
       "                                                 bagging_freq=7,\n",
       "                                                 colsample_bynode=0.5110355095943208,\n",
       "                                                 colsample_bytree=0.7759862336963801,\n",
       "                                                 lambda_l1=0.005116829730239727,\n",
       "                                                 lambda_l2=0.0011520776712645852,\n",
       "                                                 learning_rate=0.02376367323636638,\n",
       "                                                 max_depth=5,\n",
       "                                                 min_data_in_leaf=78,\n",
       "                                                 n_iter=200, num_leaves=207,\n",
       "                                                 objective='l2',\n",
       "                                                 random_state=102,\n",
       "                                                 verbosity=-1))])"
      ]
     },
     "execution_count": 22,
     "metadata": {},
     "output_type": "execute_result"
    }
   ],
   "source": [
    "X = df_train[feature_cols]\n",
    "y = df_train[target_col]\n",
    "\n",
    "ensemble_model.fit(X, y)"
   ]
  },
  {
   "cell_type": "markdown",
   "id": "d14ae6da",
   "metadata": {
    "papermill": {
     "duration": 0.025785,
     "end_time": "2024-12-22T02:02:30.444643",
     "exception": false,
     "start_time": "2024-12-22T02:02:30.418858",
     "status": "completed"
    },
    "tags": []
   },
   "source": [
    "## Prediction"
   ]
  },
  {
   "cell_type": "code",
   "execution_count": 23,
   "id": "4192a48a",
   "metadata": {
    "execution": {
     "iopub.execute_input": "2024-12-22T02:02:30.498422Z",
     "iopub.status.busy": "2024-12-22T02:02:30.497719Z",
     "iopub.status.idle": "2024-12-22T02:02:30.597770Z",
     "shell.execute_reply": "2024-12-22T02:02:30.596950Z"
    },
    "papermill": {
     "duration": 0.129633,
     "end_time": "2024-12-22T02:02:30.600221",
     "exception": false,
     "start_time": "2024-12-22T02:02:30.470588",
     "status": "completed"
    },
    "tags": []
   },
   "outputs": [],
   "source": [
    "df_subm[target_col] = ensemble_model.predict(df_test[feature_cols])\n",
    "df_subm[target_col] = df_subm[target_col].round()\n",
    "\n",
    "df_subm.to_csv('submission.csv')"
   ]
  },
  {
   "cell_type": "code",
   "execution_count": 24,
   "id": "b5672b5c",
   "metadata": {
    "execution": {
     "iopub.execute_input": "2024-12-22T02:02:30.654245Z",
     "iopub.status.busy": "2024-12-22T02:02:30.653812Z",
     "iopub.status.idle": "2024-12-22T02:02:30.665493Z",
     "shell.execute_reply": "2024-12-22T02:02:30.664491Z"
    },
    "papermill": {
     "duration": 0.04096,
     "end_time": "2024-12-22T02:02:30.667496",
     "exception": false,
     "start_time": "2024-12-22T02:02:30.626536",
     "status": "completed"
    },
    "tags": []
   },
   "outputs": [
    {
     "data": {
      "text/html": [
       "<div>\n",
       "<style scoped>\n",
       "    .dataframe tbody tr th:only-of-type {\n",
       "        vertical-align: middle;\n",
       "    }\n",
       "\n",
       "    .dataframe tbody tr th {\n",
       "        vertical-align: top;\n",
       "    }\n",
       "\n",
       "    .dataframe thead th {\n",
       "        text-align: right;\n",
       "    }\n",
       "</style>\n",
       "<table border=\"1\" class=\"dataframe\">\n",
       "  <thead>\n",
       "    <tr style=\"text-align: right;\">\n",
       "      <th></th>\n",
       "      <th>sii</th>\n",
       "    </tr>\n",
       "    <tr>\n",
       "      <th>id</th>\n",
       "      <th></th>\n",
       "    </tr>\n",
       "  </thead>\n",
       "  <tbody>\n",
       "    <tr>\n",
       "      <th>00008ff9</th>\n",
       "      <td>0.0</td>\n",
       "    </tr>\n",
       "    <tr>\n",
       "      <th>000fd460</th>\n",
       "      <td>0.0</td>\n",
       "    </tr>\n",
       "    <tr>\n",
       "      <th>00105258</th>\n",
       "      <td>1.0</td>\n",
       "    </tr>\n",
       "    <tr>\n",
       "      <th>00115b9f</th>\n",
       "      <td>0.0</td>\n",
       "    </tr>\n",
       "    <tr>\n",
       "      <th>0016bb22</th>\n",
       "      <td>1.0</td>\n",
       "    </tr>\n",
       "    <tr>\n",
       "      <th>001f3379</th>\n",
       "      <td>1.0</td>\n",
       "    </tr>\n",
       "    <tr>\n",
       "      <th>0038ba98</th>\n",
       "      <td>1.0</td>\n",
       "    </tr>\n",
       "    <tr>\n",
       "      <th>0068a485</th>\n",
       "      <td>0.0</td>\n",
       "    </tr>\n",
       "    <tr>\n",
       "      <th>0069fbed</th>\n",
       "      <td>1.0</td>\n",
       "    </tr>\n",
       "    <tr>\n",
       "      <th>0083e397</th>\n",
       "      <td>1.0</td>\n",
       "    </tr>\n",
       "    <tr>\n",
       "      <th>0087dd65</th>\n",
       "      <td>1.0</td>\n",
       "    </tr>\n",
       "    <tr>\n",
       "      <th>00abe655</th>\n",
       "      <td>1.0</td>\n",
       "    </tr>\n",
       "    <tr>\n",
       "      <th>00ae59c9</th>\n",
       "      <td>1.0</td>\n",
       "    </tr>\n",
       "    <tr>\n",
       "      <th>00af6387</th>\n",
       "      <td>1.0</td>\n",
       "    </tr>\n",
       "    <tr>\n",
       "      <th>00bd4359</th>\n",
       "      <td>1.0</td>\n",
       "    </tr>\n",
       "    <tr>\n",
       "      <th>00c0cd71</th>\n",
       "      <td>0.0</td>\n",
       "    </tr>\n",
       "    <tr>\n",
       "      <th>00d56d4b</th>\n",
       "      <td>0.0</td>\n",
       "    </tr>\n",
       "    <tr>\n",
       "      <th>00d9913d</th>\n",
       "      <td>0.0</td>\n",
       "    </tr>\n",
       "    <tr>\n",
       "      <th>00e6167c</th>\n",
       "      <td>0.0</td>\n",
       "    </tr>\n",
       "    <tr>\n",
       "      <th>00ebc35d</th>\n",
       "      <td>1.0</td>\n",
       "    </tr>\n",
       "  </tbody>\n",
       "</table>\n",
       "</div>"
      ],
      "text/plain": [
       "          sii\n",
       "id           \n",
       "00008ff9  0.0\n",
       "000fd460  0.0\n",
       "00105258  1.0\n",
       "00115b9f  0.0\n",
       "0016bb22  1.0\n",
       "001f3379  1.0\n",
       "0038ba98  1.0\n",
       "0068a485  0.0\n",
       "0069fbed  1.0\n",
       "0083e397  1.0\n",
       "0087dd65  1.0\n",
       "00abe655  1.0\n",
       "00ae59c9  1.0\n",
       "00af6387  1.0\n",
       "00bd4359  1.0\n",
       "00c0cd71  0.0\n",
       "00d56d4b  0.0\n",
       "00d9913d  0.0\n",
       "00e6167c  0.0\n",
       "00ebc35d  1.0"
      ]
     },
     "execution_count": 24,
     "metadata": {},
     "output_type": "execute_result"
    }
   ],
   "source": [
    "df_subm"
   ]
  }
 ],
 "metadata": {
  "kaggle": {
   "accelerator": "none",
   "dataSources": [
    {
     "databundleVersionId": 9643020,
     "sourceId": 81933,
     "sourceType": "competition"
    }
   ],
   "dockerImageVersionId": 30761,
   "isGpuEnabled": false,
   "isInternetEnabled": false,
   "language": "python",
   "sourceType": "notebook"
  },
  "kernelspec": {
   "display_name": "Python 3",
   "language": "python",
   "name": "python3"
  },
  "language_info": {
   "codemirror_mode": {
    "name": "ipython",
    "version": 3
   },
   "file_extension": ".py",
   "mimetype": "text/x-python",
   "name": "python",
   "nbconvert_exporter": "python",
   "pygments_lexer": "ipython3",
   "version": "3.10.14"
  },
  "papermill": {
   "default_parameters": {},
   "duration": 112.287862,
   "end_time": "2024-12-22T02:02:31.515472",
   "environment_variables": {},
   "exception": null,
   "input_path": "__notebook__.ipynb",
   "output_path": "__notebook__.ipynb",
   "parameters": {},
   "start_time": "2024-12-22T02:00:39.227610",
   "version": "2.6.0"
  }
 },
 "nbformat": 4,
 "nbformat_minor": 5
}
